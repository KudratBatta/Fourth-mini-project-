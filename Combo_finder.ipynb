{
  "nbformat": 4,
  "nbformat_minor": 0,
  "metadata": {
    "colab": {
      "provenance": [],
      "authorship_tag": "ABX9TyMZzLu3L+FoesrcgQWIYMt7",
      "include_colab_link": true
    },
    "kernelspec": {
      "name": "python3",
      "display_name": "Python 3"
    },
    "language_info": {
      "name": "python"
    }
  },
  "cells": [
    {
      "cell_type": "markdown",
      "metadata": {
        "id": "view-in-github",
        "colab_type": "text"
      },
      "source": [
        "<a href=\"https://colab.research.google.com/github/KudratBatta/Fourth-mini-project-/blob/main/Combo_finder.ipynb\" target=\"_parent\"><img src=\"https://colab.research.google.com/assets/colab-badge.svg\" alt=\"Open In Colab\"/></a>"
      ]
    },
    {
      "cell_type": "code",
      "execution_count": 4,
      "metadata": {
        "colab": {
          "base_uri": "https://localhost:8080/"
        },
        "id": "S_5oFpwiKK4f",
        "outputId": "2e2794e7-eb6b-4273-b8f0-f49bd01a331d"
      },
      "outputs": [
        {
          "output_type": "stream",
          "name": "stdout",
          "text": [
            "(-8, -3, 2, 9)\n",
            "(-8, -6, -4, 7, 11)\n",
            "(-9, -6, -4, 2, 6, 11)\n",
            "(-5, -4, 1, 2, 6)\n",
            "(-6, -4, -3, 6, 7)\n",
            "(-8, -7, -4, 3, 7, 9)\n",
            "(-7, -6, -2, 6, 9)\n",
            "(-7, -6, 1, 3, 9)\n",
            "(-12, -9, 1, 2, 7, 11)\n",
            "(-9, -5, -4, 7, 11)\n",
            "(-6, 1, 2, 3)\n",
            "(-8, 2, 6)\n",
            "(-7, -4, -2, 2, 11)\n",
            "(-8, -2, 1, 3, 6)\n",
            "(-9, -2, 11)\n",
            "(-6, -3, 9)\n",
            "(-9, -6, -3, 1, 6, 11)\n",
            "(-5, -3, -2, 1, 9)\n",
            "(-4, -3, -2, 2, 7)\n",
            "(-8, -6, -2, 2, 3, 11)\n",
            "(-8, -2, 1, 2, 7)\n",
            "(-7, -6, -3, 7, 9)\n",
            "(-9, -7, 1, 6, 9)\n",
            "(-9, -8, -4, 1, 9, 11)\n",
            "(-7, 1, 6)\n",
            "(-12, -8, 2, 7, 11)\n",
            "(-8, -3, 11)\n",
            "(-9, -7, -5, 3, 7, 11)\n",
            "(-8, -6, -4, 1, 6, 11)\n",
            "\n",
            "Total Sets:  29\n"
          ]
        }
      ],
      "source": [
        "import random as r\n",
        "\n",
        "Set         = set([-12, -3, -6, 7, 2, -2, 6, 3, 9, -7, -5, -8, 1, 11, -9, -4])\n",
        "SetLB       = 3\n",
        "SetUB       = 6\n",
        "ResultList  = set()    # Store Result List i.e. list of sets whose sum is zero\n",
        "Iterations  = 1000   # Number of Inerations\n",
        "\n",
        "for i in range(Iterations):\n",
        "\n",
        "    SetSize = r.randint(SetLB,SetUB)\n",
        "\n",
        "    Chromosome = r.sample(list(Set),SetSize)\n",
        "    Chromosome.sort()\n",
        "\n",
        "    if sum(Chromosome) == 0:\n",
        "        ResultList.add(tuple(Chromosome))\n",
        "\n",
        "# Print all the sets whose sum is zero\n",
        "for r in ResultList:\n",
        "\tprint (r)\n",
        "\n",
        "print (\"\\nTotal Sets: \", len(ResultList))"
      ]
    },
    {
      "cell_type": "code",
      "source": [],
      "metadata": {
        "id": "B2T64KEcLM-I"
      },
      "execution_count": null,
      "outputs": []
    }
  ]
}